{
 "cells": [
  {
   "cell_type": "code",
   "execution_count": 15,
   "metadata": {},
   "outputs": [
    {
     "name": "stdout",
     "output_type": "stream",
     "text": [
      "14\n",
      "push 1\n"
     ]
    },
    {
     "ename": "TypeError",
     "evalue": "'in <string>' requires string as left operand, not map",
     "output_type": "error",
     "traceback": [
      "\u001b[1;31m---------------------------------------------------------------------------\u001b[0m",
      "\u001b[1;31mTypeError\u001b[0m                                 Traceback (most recent call last)",
      "\u001b[1;32m<ipython-input-15-a9f8002a1a3f>\u001b[0m in \u001b[0;36m<module>\u001b[1;34m\u001b[0m\n\u001b[0;32m      4\u001b[0m \u001b[1;32mfor\u001b[0m \u001b[0m_\u001b[0m \u001b[1;32min\u001b[0m \u001b[0mrange\u001b[0m\u001b[1;33m(\u001b[0m\u001b[0mn\u001b[0m\u001b[1;33m)\u001b[0m\u001b[1;33m:\u001b[0m\u001b[1;33m\u001b[0m\u001b[1;33m\u001b[0m\u001b[0m\n\u001b[0;32m      5\u001b[0m     \u001b[0msentence\u001b[0m \u001b[1;33m=\u001b[0m \u001b[0mmap\u001b[0m\u001b[1;33m(\u001b[0m\u001b[0mstr\u001b[0m\u001b[1;33m,\u001b[0m\u001b[0minput\u001b[0m\u001b[1;33m(\u001b[0m\u001b[1;33m)\u001b[0m\u001b[1;33m.\u001b[0m\u001b[0msplit\u001b[0m\u001b[1;33m(\u001b[0m\u001b[1;33m)\u001b[0m\u001b[1;33m)\u001b[0m\u001b[1;33m\u001b[0m\u001b[1;33m\u001b[0m\u001b[0m\n\u001b[1;32m----> 6\u001b[1;33m     \u001b[1;32mif\u001b[0m \u001b[0msentence\u001b[0m \u001b[1;32min\u001b[0m \u001b[1;34m'push'\u001b[0m\u001b[1;33m:\u001b[0m\u001b[1;33m\u001b[0m\u001b[1;33m\u001b[0m\u001b[0m\n\u001b[0m\u001b[0;32m      7\u001b[0m         \u001b[0mstack_1\u001b[0m\u001b[1;33m.\u001b[0m\u001b[0mappend\u001b[0m\u001b[1;33m(\u001b[0m\u001b[0msentence\u001b[0m\u001b[1;33m[\u001b[0m\u001b[1;36m1\u001b[0m\u001b[1;33m]\u001b[0m\u001b[1;33m)\u001b[0m\u001b[1;33m\u001b[0m\u001b[1;33m\u001b[0m\u001b[0m\n\u001b[0;32m      8\u001b[0m     \u001b[1;32melif\u001b[0m \u001b[0mlen\u001b[0m\u001b[1;33m(\u001b[0m\u001b[0mstack_1\u001b[0m\u001b[1;33m)\u001b[0m \u001b[1;33m==\u001b[0m \u001b[1;36m0\u001b[0m \u001b[1;32mand\u001b[0m \u001b[0msentence\u001b[0m \u001b[1;32min\u001b[0m \u001b[1;34m'top'\u001b[0m\u001b[1;33m:\u001b[0m\u001b[1;33m\u001b[0m\u001b[1;33m\u001b[0m\u001b[0m\n",
      "\u001b[1;31mTypeError\u001b[0m: 'in <string>' requires string as left operand, not map"
     ]
    }
   ],
   "source": [
    "n = int(input())\n",
    "stack_1 = []\n",
    "sentence = 123\n",
    "for _ in range(n):\n",
    "    sentence = sys.stdin.readline().rstrip().split()\n",
    "    if sentence in 'push':\n",
    "        stack_1.append(sentence[1])\n",
    "    elif len(stack_1) == 0 and sentence in 'top':\n",
    "        print('-1')\n",
    "    elif len(stack_1) >= 1 and sentence in 'top':\n",
    "        print(stack_1[-1])\n",
    "    elif sentence in 'size':\n",
    "        print(len(stack_1))\n",
    "        \n",
    "    elif setencen in 'empty' and len(stack_1) == 0:\n",
    "        print('0')\n",
    "    elif sentence in 'empty' and len(stack_1) >= 1:\n",
    "        print('1')\n",
    "    elif sentence in 'pop' and len(stack_1) == 0:\n",
    "        x=stack_1.pop()\n",
    "        print(x)\n",
    "    elif sentence in 'pop' and len(stack_1) >= 1:\n",
    "        print('-1')\n",
    "        "
   ]
  },
  {
   "cell_type": "code",
   "execution_count": 18,
   "metadata": {},
   "outputs": [
    {
     "name": "stdout",
     "output_type": "stream",
     "text": [
      "14\n",
      "push 1\n",
      "push 2\\\n",
      "top\n",
      "2\\\n",
      "size\n",
      "2\n",
      "empyu\n",
      "asd\n",
      "sda\n",
      "asd\n",
      "sda\n",
      "asd\n",
      "das\n",
      "sda\n",
      "asd\n",
      "asd\n"
     ]
    }
   ],
   "source": [
    "import sys\n",
    "\n",
    "def push(x):\n",
    "    stack.append(x)\n",
    "    \n",
    "def pop():\n",
    "    if(not stack):\n",
    "        return -1\n",
    "    else:\n",
    "        return stack.pop()\n",
    "    \n",
    "def size():\n",
    "    return len(stack)\n",
    "\n",
    "def empty():\n",
    "    return 0 if stack else 1\n",
    "\n",
    "def top():\n",
    "    return stack[-1] if stack else -1\n",
    "\n",
    "n = int(input().rstrip())\n",
    "\n",
    "stack = []\n",
    "\n",
    "for _ in range(n):\n",
    "    input_split = input().rstrip().split()\n",
    "    \n",
    "    sentence = input_split[0]\n",
    "    \n",
    "    \n",
    "    if sentence == 'push':\n",
    "        push(input_split[1])\n",
    "        \n",
    "    elif sentence == 'pop':\n",
    "        print(pop())\n",
    "             \n",
    "    elif sentence == 'size':\n",
    "        print(size())\n",
    "             \n",
    "    elif sentence == 'empty':\n",
    "        print(empty())\n",
    "    \n",
    "    elif sentence == 'top':\n",
    "        print(top())"
   ]
  },
  {
   "cell_type": "code",
   "execution_count": 5,
   "metadata": {},
   "outputs": [],
   "source": [
    "x = 'push 1'"
   ]
  },
  {
   "cell_type": "code",
   "execution_count": 6,
   "metadata": {},
   "outputs": [
    {
     "data": {
      "text/plain": [
       "['push', '1']"
      ]
     },
     "execution_count": 6,
     "metadata": {},
     "output_type": "execute_result"
    }
   ],
   "source": [
    "x.split()"
   ]
  },
  {
   "cell_type": "code",
   "execution_count": 4,
   "metadata": {},
   "outputs": [
    {
     "data": {
      "text/plain": [
       "True"
      ]
     },
     "execution_count": 4,
     "metadata": {},
     "output_type": "execute_result"
    }
   ],
   "source": [
    "x in 'push 1'"
   ]
  },
  {
   "cell_type": "code",
   "execution_count": 7,
   "metadata": {},
   "outputs": [],
   "source": [
    "ss = ['1','2','3']"
   ]
  },
  {
   "cell_type": "code",
   "execution_count": 8,
   "metadata": {},
   "outputs": [
    {
     "data": {
      "text/plain": [
       "'3'"
      ]
     },
     "execution_count": 8,
     "metadata": {},
     "output_type": "execute_result"
    }
   ],
   "source": [
    "ss[-1]"
   ]
  },
  {
   "cell_type": "code",
   "execution_count": null,
   "metadata": {},
   "outputs": [],
   "source": []
  }
 ],
 "metadata": {
  "kernelspec": {
   "display_name": "Python 3",
   "language": "python",
   "name": "python3"
  },
  "language_info": {
   "codemirror_mode": {
    "name": "ipython",
    "version": 3
   },
   "file_extension": ".py",
   "mimetype": "text/x-python",
   "name": "python",
   "nbconvert_exporter": "python",
   "pygments_lexer": "ipython3",
   "version": "3.7.6"
  }
 },
 "nbformat": 4,
 "nbformat_minor": 4
}
