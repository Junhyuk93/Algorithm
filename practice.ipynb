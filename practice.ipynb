{
 "cells": [
  {
   "cell_type": "code",
   "execution_count": 15,
   "metadata": {},
   "outputs": [
    {
     "name": "stdout",
     "output_type": "stream",
     "text": [
      "14\n",
      "push 1\n"
     ]
    },
    {
     "ename": "TypeError",
     "evalue": "'in <string>' requires string as left operand, not map",
     "output_type": "error",
     "traceback": [
      "\u001b[1;31m---------------------------------------------------------------------------\u001b[0m",
      "\u001b[1;31mTypeError\u001b[0m                                 Traceback (most recent call last)",
      "\u001b[1;32m<ipython-input-15-a9f8002a1a3f>\u001b[0m in \u001b[0;36m<module>\u001b[1;34m\u001b[0m\n\u001b[0;32m      4\u001b[0m \u001b[1;32mfor\u001b[0m \u001b[0m_\u001b[0m \u001b[1;32min\u001b[0m \u001b[0mrange\u001b[0m\u001b[1;33m(\u001b[0m\u001b[0mn\u001b[0m\u001b[1;33m)\u001b[0m\u001b[1;33m:\u001b[0m\u001b[1;33m\u001b[0m\u001b[1;33m\u001b[0m\u001b[0m\n\u001b[0;32m      5\u001b[0m     \u001b[0msentence\u001b[0m \u001b[1;33m=\u001b[0m \u001b[0mmap\u001b[0m\u001b[1;33m(\u001b[0m\u001b[0mstr\u001b[0m\u001b[1;33m,\u001b[0m\u001b[0minput\u001b[0m\u001b[1;33m(\u001b[0m\u001b[1;33m)\u001b[0m\u001b[1;33m.\u001b[0m\u001b[0msplit\u001b[0m\u001b[1;33m(\u001b[0m\u001b[1;33m)\u001b[0m\u001b[1;33m)\u001b[0m\u001b[1;33m\u001b[0m\u001b[1;33m\u001b[0m\u001b[0m\n\u001b[1;32m----> 6\u001b[1;33m     \u001b[1;32mif\u001b[0m \u001b[0msentence\u001b[0m \u001b[1;32min\u001b[0m \u001b[1;34m'push'\u001b[0m\u001b[1;33m:\u001b[0m\u001b[1;33m\u001b[0m\u001b[1;33m\u001b[0m\u001b[0m\n\u001b[0m\u001b[0;32m      7\u001b[0m         \u001b[0mstack_1\u001b[0m\u001b[1;33m.\u001b[0m\u001b[0mappend\u001b[0m\u001b[1;33m(\u001b[0m\u001b[0msentence\u001b[0m\u001b[1;33m[\u001b[0m\u001b[1;36m1\u001b[0m\u001b[1;33m]\u001b[0m\u001b[1;33m)\u001b[0m\u001b[1;33m\u001b[0m\u001b[1;33m\u001b[0m\u001b[0m\n\u001b[0;32m      8\u001b[0m     \u001b[1;32melif\u001b[0m \u001b[0mlen\u001b[0m\u001b[1;33m(\u001b[0m\u001b[0mstack_1\u001b[0m\u001b[1;33m)\u001b[0m \u001b[1;33m==\u001b[0m \u001b[1;36m0\u001b[0m \u001b[1;32mand\u001b[0m \u001b[0msentence\u001b[0m \u001b[1;32min\u001b[0m \u001b[1;34m'top'\u001b[0m\u001b[1;33m:\u001b[0m\u001b[1;33m\u001b[0m\u001b[1;33m\u001b[0m\u001b[0m\n",
      "\u001b[1;31mTypeError\u001b[0m: 'in <string>' requires string as left operand, not map"
     ]
    }
   ],
   "source": [
    "n = int(input())\n",
    "stack_1 = []\n",
    "sentence = 123\n",
    "for _ in range(n):\n",
    "    sentence = sys.stdin.readline().rstrip().split()\n",
    "    if sentence in 'push':\n",
    "        stack_1.append(sentence[1])\n",
    "    elif len(stack_1) == 0 and sentence in 'top':\n",
    "        print('-1')\n",
    "    elif len(stack_1) >= 1 and sentence in 'top':\n",
    "        print(stack_1[-1])\n",
    "    elif sentence in 'size':\n",
    "        print(len(stack_1))\n",
    "        \n",
    "    elif setencen in 'empty' and len(stack_1) == 0:\n",
    "        print('0')\n",
    "    elif sentence in 'empty' and len(stack_1) >= 1:\n",
    "        print('1')\n",
    "    elif sentence in 'pop' and len(stack_1) == 0:\n",
    "        x=stack_1.pop()\n",
    "        print(x)\n",
    "    elif sentence in 'pop' and len(stack_1) >= 1:\n",
    "        print('-1')\n",
    "        "
   ]
  },
  {
   "cell_type": "code",
   "execution_count": 18,
   "metadata": {},
   "outputs": [
    {
     "name": "stdout",
     "output_type": "stream",
     "text": [
      "14\n",
      "push 1\n",
      "push 2\\\n",
      "top\n",
      "2\\\n",
      "size\n",
      "2\n",
      "empyu\n",
      "asd\n",
      "sda\n",
      "asd\n",
      "sda\n",
      "asd\n",
      "das\n",
      "sda\n",
      "asd\n",
      "asd\n"
     ]
    }
   ],
   "source": [
    "import sys\n",
    "\n",
    "def push(x):\n",
    "    stack.append(x)\n",
    "    \n",
    "def pop():\n",
    "    if(not stack):\n",
    "        return -1\n",
    "    else:\n",
    "        return stack.pop()\n",
    "    \n",
    "def size():\n",
    "    return len(stack)\n",
    "\n",
    "def empty():\n",
    "    return 0 if stack else 1\n",
    "\n",
    "def top():\n",
    "    return stack[-1] if stack else -1\n",
    "\n",
    "n = int(input().rstrip())\n",
    "\n",
    "stack = []\n",
    "\n",
    "for _ in range(n):\n",
    "    input_split = input().rstrip().split()\n",
    "    \n",
    "    sentence = input_split[0]\n",
    "    \n",
    "    \n",
    "    if sentence == 'push':\n",
    "        push(input_splitsd\n",
    "             [1])\n",
    "        \n",
    "    elif sentence == 'pop':\n",
    "        print(pop())\n",
    "             \n",
    "    elif sentence == 'size':\n",
    "        print(size())\n",
    "             \n",
    "    elif sentence == 'empty':\n",
    "        print(empty())\n",
    "    \n",
    "    elif sentence == 'top':\n",
    "        print(top())"
   ]
  },
  {
   "cell_type": "code",
   "execution_count": 5,
   "metadata": {},
   "outputs": [],
   "source": [
    "x = 'push 1'"
   ]
  },
  {
   "cell_type": "code",
   "execution_count": 6,
   "metadata": {},
   "outputs": [
    {
     "data": {
      "text/plain": [
       "['push', '1']"
      ]
     },
     "execution_count": 6,
     "metadata": {},
     "output_type": "execute_result"
    }
   ],
   "source": [
    "x.split()"
   ]
  },
  {
   "cell_type": "code",
   "execution_count": 4,
   "metadata": {},
   "outputs": [
    {
     "data": {
      "text/plain": [
       "True"
      ]
     },
     "execution_count": 4,
     "metadata": {},
     "output_type": "execute_result"
    }
   ],
   "source": [
    "x in 'push 1'"
   ]
  },
  {
   "cell_type": "code",
   "execution_count": 7,
   "metadata": {},
   "outputs": [],
   "source": [
    "ss = ['1','2','3']"
   ]
  },
  {
   "cell_type": "code",
   "execution_count": 8,
   "metadata": {},
   "outputs": [
    {
     "data": {
      "text/plain": [
       "'3'"
      ]
     },
     "execution_count": 8,
     "metadata": {},
     "output_type": "execute_result"
    }
   ],
   "source": [
    "ss[-1]"
   ]
  },
  {
   "cell_type": "code",
   "execution_count": 23,
   "metadata": {},
   "outputs": [
    {
     "name": "stdout",
     "output_type": "stream",
     "text": [
      "15\n",
      "push 1\n",
      "push 2\n",
      "front\n",
      "1\n",
      "back\n",
      "2\n",
      "size\n",
      "2\n",
      "empty\n",
      "0\n",
      "pop\n",
      "1\n",
      "pop\n",
      "2\n",
      "pop\n",
      "-1\n",
      "123\n",
      "123\n",
      "123\n",
      "123\n",
      "123\n",
      "123\n"
     ]
    }
   ],
   "source": [
    "import sys\n",
    "\n",
    "def push(x):\n",
    "    stack.append(x)\n",
    "\n",
    "\n",
    "def pop():\n",
    "    if(not stack):\n",
    "        return -1\n",
    "    else:\n",
    "        return stack.pop(0)\n",
    "\n",
    "\n",
    "def size():\n",
    "    return len(stack)\n",
    "\n",
    "def empty():\n",
    "    return 0 if stack else 1\n",
    "\n",
    "\n",
    "def front():\n",
    "    return stack[0] if stack else -1\n",
    "\n",
    "def back():\n",
    "    return stack[-1] if stack else -1\n",
    "\n",
    "n = int(sys.stdin.readline().rstrip())\n",
    "# n = int(input().rstrip())\n",
    "stack = []\n",
    "\n",
    "for _ in range(n):\n",
    "    input_split = sys.stdin.readline().rstrip().split()\n",
    "#     input_split = input().rstrip().split()\n",
    "    order = input_split[0]\n",
    "\n",
    "    if order == \"push\":\n",
    "        push(input_split[1])\n",
    "    elif order == \"pop\":\n",
    "        print(pop())\n",
    "    elif order == \"size\":\n",
    "        print(size())\n",
    "    elif order == \"empty\":\n",
    "        print(empty())\n",
    "    elif order == \"front\":\n",
    "        print(front())\n",
    "    elif order == 'back':\n",
    "        print(back())"
   ]
  },
  {
   "cell_type": "code",
   "execution_count": 33,
   "metadata": {},
   "outputs": [
    {
     "name": "stdout",
     "output_type": "stream",
     "text": [
      "15\n",
      "push_back 1\n",
      "push_front 2\n",
      "front\n",
      "2\n",
      "back\n",
      "1\n",
      "size\n",
      "2\n",
      "empty\n",
      "0\n",
      "pop_front\n",
      "2\n",
      "pop_back\n",
      "1\n",
      "pop_front\n",
      "-1\n",
      "size\n",
      "0\n",
      "empty\n",
      "1\n",
      "pop_back\n",
      "-1\n",
      "push_front 3\n",
      "empty\n",
      "0\n",
      "front\n",
      "3\n"
     ]
    }
   ],
   "source": [
    "import sys\n",
    "\n",
    "def push_back(x):\n",
    "    stack.append(x)\n",
    "\n",
    "def push_front(x):\n",
    "    stack.insert(0,x)\n",
    "\n",
    "\n",
    "def pop_front():\n",
    "    if(not stack):\n",
    "        return -1\n",
    "    else:\n",
    "        return stack.pop(0)\n",
    "\n",
    "def pop_back():\n",
    "    if(not stack):\n",
    "        return -1\n",
    "    else:\n",
    "        return stack.pop()\n",
    "    \n",
    "\n",
    "def size():\n",
    "    return len(stack)\n",
    "\n",
    "def empty():\n",
    "    return 0 if stack else 1\n",
    "\n",
    "\n",
    "def front():\n",
    "    return stack[0] if stack else -1\n",
    "\n",
    "def back():\n",
    "    return stack[-1] if stack else -1\n",
    "\n",
    "n = int(sys.stdin.readline().rstrip())\n",
    "# n = int(input().rstrip())\n",
    "stack = []\n",
    "\n",
    "for _ in range(n):\n",
    "    input_split = sys.stdin.readline().rstrip().split()\n",
    "#     input_split = input().rstrip().split()\n",
    "    order = input_split[0]\n",
    "\n",
    "    \n",
    "    if order == \"push_front\":\n",
    "        push_front(input_split[1])\n",
    "    elif order == \"push_back\":\n",
    "        push_back(input_split[1])\n",
    "    elif order == \"pop_front\":\n",
    "        print(pop_front())\n",
    "    elif order == \"pop_back\":\n",
    "        print(pop_back())\n",
    "    elif order == \"size\":\n",
    "        print(size())\n",
    "    elif order == \"empty\":\n",
    "        print(empty())\n",
    "    elif order == \"front\":\n",
    "        print(front())\n",
    "    elif order == 'back':\n",
    "        print(back())"
   ]
  },
  {
   "cell_type": "code",
   "execution_count": 24,
   "metadata": {},
   "outputs": [],
   "source": [
    "x = ['1','2','3']"
   ]
  },
  {
   "cell_type": "code",
   "execution_count": 28,
   "metadata": {},
   "outputs": [],
   "source": [
    "x.append()"
   ]
  },
  {
   "cell_type": "code",
   "execution_count": 29,
   "metadata": {},
   "outputs": [
    {
     "data": {
      "text/plain": [
       "['1', '2', '3', 3]"
      ]
     },
     "execution_count": 29,
     "metadata": {},
     "output_type": "execute_result"
    }
   ],
   "source": [
    "x"
   ]
  },
  {
   "cell_type": "code",
   "execution_count": 30,
   "metadata": {},
   "outputs": [],
   "source": [
    "x.insert(0,3)"
   ]
  },
  {
   "cell_type": "code",
   "execution_count": 31,
   "metadata": {},
   "outputs": [
    {
     "data": {
      "text/plain": [
       "[3, '1', '2', '3', 3]"
      ]
     },
     "execution_count": 31,
     "metadata": {},
     "output_type": "execute_result"
    }
   ],
   "source": [
    "x"
   ]
  },
  {
   "cell_type": "code",
   "execution_count": 23,
   "metadata": {},
   "outputs": [
    {
     "name": "stdout",
     "output_type": "stream",
     "text": [
      "6 5\n",
      "1 1 0 1 1\n",
      "0 1 1 0 0\n",
      "0 0 0 0 0\n",
      "1 0 1 1 1\n",
      "0 0 1 1 1\n",
      "0 0 1 1 1\n",
      "9\n",
      "3\n"
     ]
    }
   ],
   "source": [
    "from collections import deque\n",
    "\n",
    "def bfs(x,y):\n",
    "    q = deque()\n",
    "    q.append((x,y))\n",
    "    images[i][j] = 0\n",
    "    \n",
    "    size = 1\n",
    "    \n",
    "    while q:\n",
    "        x,y = q.popleft()\n",
    "        \n",
    "        for k in range(4):\n",
    "            \n",
    "            nx = x + dx[k]\n",
    "            ny = y + dy[k]\n",
    "            \n",
    "            if 0 <= nx < n and 0 <= ny < m: # 인덱스 범위안에 있고\n",
    "                if images[nx][ny]:\n",
    "                    q.append((nx,ny))\n",
    "                    size += 1\n",
    "                    \n",
    "                    images[nx][ny] = 0\n",
    "                    \n",
    "        else:\n",
    "            size_list.append(size)\n",
    "            return\n",
    "            \n",
    "if __name__ ==\"__main__\":            \n",
    "    n,m = map(int,input().split())\n",
    "    images = [list(map(int, input().split())) for _ in range(n)]\n",
    "\n",
    "    cnt = 0 # 그림수\n",
    "    size_list = []\n",
    "\n",
    "    dx = [-1,1,0,0]\n",
    "    dy = [0,0,-1,1]\n",
    "\n",
    "    for i in range(n):\n",
    "        for j in range(m):\n",
    "            if images[i][j]:  # 한번 들어갈때마다 그림 +1\n",
    "                bfs(i,j)\n",
    "                cnt += 1\n",
    "\n",
    "    print(cnt)\n",
    "    print(max(size_list) if size_list else 0)"
   ]
  },
  {
   "cell_type": "code",
   "execution_count": 18,
   "metadata": {},
   "outputs": [
    {
     "name": "stdout",
     "output_type": "stream",
     "text": [
      "6 5\n",
      "1 1 0 1 1\n",
      "0 1 1 0 0\n",
      "0 0 0 0 0\n",
      "1 0 1 1 1\n",
      "0 0 1 1 1\n",
      "0 0 1 1 1\n",
      "4\n",
      "9\n"
     ]
    }
   ],
   "source": [
    "from collections import deque\n",
    "\n",
    "\n",
    "def bfs(x, y):\n",
    "    q = deque()\n",
    "    q.append((x, y))\n",
    "    images[i][j] = 0\n",
    "    size = 1  # 최초 들어갈 때 그림 크기 1로 시작\n",
    "    while q:\n",
    "        x, y = q.popleft()\n",
    "        for k in range(4):  # 상하좌우 탐색\n",
    "            nx = x + dx[k]\n",
    "            ny = y + dy[k]\n",
    "            if 0 <= nx < n and 0 <= ny < m:  # 인덱스 범위안에 있고\n",
    "                if images[nx][ny]:  # 주변이 연결된 그림이면\n",
    "                    q.append((nx, ny))\n",
    "                    size += 1\n",
    "                    images[nx][ny] = 0\n",
    "    else:\n",
    "        size_list.append(size)\n",
    "        return\n",
    "\n",
    "\n",
    "if __name__ == \"__main__\":\n",
    "    n, m = map(int, input().split())\n",
    "    images = [list(map(int, input().split())) for _ in range(n)]\n",
    "\n",
    "    cnt = 0  # 그림의 수\n",
    "    size_list = []  # 그림의 크기들\n",
    "    \n",
    "    dx, dy = [-1, 1, 0, 0], [0, 0, -1, 1]\n",
    "    for i in range(n):\n",
    "        for j in range(m):\n",
    "            if images[i][j]:  # 한번 들어갈 때마다 그림 +1\n",
    "                bfs(i, j)\n",
    "                cnt += 1\n",
    "\n",
    "    print(cnt)\n",
    "    print(max(size_list) if size_list else 0)\n"
   ]
  },
  {
   "cell_type": "code",
   "execution_count": 5,
   "metadata": {
    "scrolled": true
   },
   "outputs": [
    {
     "data": {
      "text/plain": [
       "4"
      ]
     },
     "execution_count": 5,
     "metadata": {},
     "output_type": "execute_result"
    }
   ],
   "source": [
    "m"
   ]
  },
  {
   "cell_type": "code",
   "execution_count": 42,
   "metadata": {},
   "outputs": [
    {
     "name": "stdout",
     "output_type": "stream",
     "text": [
      "10\n",
      "6 3 2 10 10 10 -10 -10 7 3\n",
      "8\n",
      "10 9 -5 2 3 4 5 -10\n",
      "3 0 0 1 2 0 0 2 "
     ]
    }
   ],
   "source": [
    "N = int(input())\n",
    "num_list1 = list(map(int,input().split()))\n",
    "M = int(input())\n",
    "num_list2 = list(map(int,input().split()))\n",
    "\n",
    "dic = dict()\n",
    "\n",
    "for i in num_list1:\n",
    "    if i in dic:\n",
    "        dic[i] += 1\n",
    "        \n",
    "    else:\n",
    "        dic[i] = 1\n",
    "        \n",
    "for i in range(M):\n",
    "    if num_list2[i] in dic:\n",
    "        print(dic[num_list2[i]], end = ' ')\n",
    "    else:\n",
    "        print(0, end=' ')"
   ]
  },
  {
   "cell_type": "code",
   "execution_count": 5,
   "metadata": {},
   "outputs": [
    {
     "data": {
      "text/plain": [
       "[1, 3, 2]"
      ]
     },
     "execution_count": 5,
     "metadata": {},
     "output_type": "execute_result"
    }
   ],
   "source": [
    "# for i in range(M):\n",
    "#     for j in range(N):\n",
    "#         if num_list2[i] in int(num_list1[j]):\n",
    "#             answer += 1\n",
    "num_list1\n",
    "\n",
    "#     answer_list.append(answer)\n",
    "#     answer = 0"
   ]
  },
  {
   "cell_type": "code",
   "execution_count": 7,
   "metadata": {},
   "outputs": [],
   "source": [
    "for i in range(len(num_list1)):\n",
    "    if num_list1[0] in num_list2[0]"
   ]
  },
  {
   "cell_type": "code",
   "execution_count": 8,
   "metadata": {},
   "outputs": [
    {
     "data": {
      "text/plain": [
       "[1, 3, 2]"
      ]
     },
     "execution_count": 8,
     "metadata": {},
     "output_type": "execute_result"
    }
   ],
   "source": [
    "answer_list"
   ]
  },
  {
   "cell_type": "code",
   "execution_count": 13,
   "metadata": {},
   "outputs": [
    {
     "ename": "TypeError",
     "evalue": "argument of type 'int' is not iterable",
     "output_type": "error",
     "traceback": [
      "\u001b[1;31m---------------------------------------------------------------------------\u001b[0m",
      "\u001b[1;31mTypeError\u001b[0m                                 Traceback (most recent call last)",
      "\u001b[1;32m<ipython-input-13-66801d423fc3>\u001b[0m in \u001b[0;36m<module>\u001b[1;34m\u001b[0m\n\u001b[1;32m----> 1\u001b[1;33m \u001b[0mnum_list1\u001b[0m \u001b[1;32min\u001b[0m \u001b[0mnum_list2\u001b[0m\u001b[1;33m[\u001b[0m\u001b[1;36m0\u001b[0m\u001b[1;33m]\u001b[0m\u001b[1;33m\u001b[0m\u001b[1;33m\u001b[0m\u001b[0m\n\u001b[0m",
      "\u001b[1;31mTypeError\u001b[0m: argument of type 'int' is not iterable"
     ]
    }
   ],
   "source": [
    "num_list1 in num_list2"
   ]
  },
  {
   "cell_type": "code",
   "execution_count": 38,
   "metadata": {},
   "outputs": [
    {
     "name": "stdout",
     "output_type": "stream",
     "text": [
      "10 9 -5 2 3 4 5 -10\n"
     ]
    }
   ],
   "source": [
    "num = set(input().split())"
   ]
  },
  {
   "cell_type": "code",
   "execution_count": 36,
   "metadata": {},
   "outputs": [
    {
     "data": {
      "text/plain": [
       "['4', '2', '5', '9', '10', '-10', '3', '-5']"
      ]
     },
     "execution_count": 36,
     "metadata": {},
     "output_type": "execute_result"
    }
   ],
   "source": [
    "list(num)"
   ]
  },
  {
   "cell_type": "code",
   "execution_count": 39,
   "metadata": {},
   "outputs": [
    {
     "data": {
      "text/plain": [
       "{'-10', '-5', '10', '2', '3', '4', '5', '9'}"
      ]
     },
     "execution_count": 39,
     "metadata": {},
     "output_type": "execute_result"
    }
   ],
   "source": [
    "num"
   ]
  },
  {
   "cell_type": "code",
   "execution_count": null,
   "metadata": {},
   "outputs": [],
   "source": []
  }
 ],
 "metadata": {
  "kernelspec": {
   "display_name": "Python 3",
   "language": "python",
   "name": "python3"
  },
  "language_info": {
   "codemirror_mode": {
    "name": "ipython",
    "version": 3
   },
   "file_extension": ".py",
   "mimetype": "text/x-python",
   "name": "python",
   "nbconvert_exporter": "python",
   "pygments_lexer": "ipython3",
   "version": "3.7.6"
  }
 },
 "nbformat": 4,
 "nbformat_minor": 4
}
