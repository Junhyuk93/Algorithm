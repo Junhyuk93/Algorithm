{
 "cells": [
  {
   "cell_type": "code",
   "execution_count": 2,
   "metadata": {},
   "outputs": [
    {
     "name": "stdout",
     "output_type": "stream",
     "text": [
      "AAAAE\n",
      "['A', 'A', 'A', 'A', 'E']\n"
     ]
    }
   ],
   "source": [
    "sentence = list(map(str,input().rstrip()))\n",
    "print(sentence)"
   ]
  },
  {
   "cell_type": "code",
   "execution_count": 4,
   "metadata": {},
   "outputs": [],
   "source": [
    "word_list = {'A':0,'B':1}"
   ]
  },
  {
   "cell_type": "code",
   "execution_count": 6,
   "metadata": {},
   "outputs": [
    {
     "data": {
      "text/plain": [
       "0"
      ]
     },
     "execution_count": 6,
     "metadata": {},
     "output_type": "execute_result"
    }
   ],
   "source": [
    "word_list['A']"
   ]
  },
  {
   "cell_type": "code",
   "execution_count": 8,
   "metadata": {},
   "outputs": [
    {
     "ename": "KeyError",
     "evalue": "1",
     "output_type": "error",
     "traceback": [
      "\u001b[1;31m---------------------------------------------------------------------------\u001b[0m",
      "\u001b[1;31mKeyError\u001b[0m                                  Traceback (most recent call last)",
      "\u001b[1;32m<ipython-input-8-3e735ebbff6b>\u001b[0m in \u001b[0;36m<module>\u001b[1;34m\u001b[0m\n\u001b[1;32m----> 1\u001b[1;33m \u001b[0mword_list\u001b[0m\u001b[1;33m[\u001b[0m\u001b[1;36m1\u001b[0m\u001b[1;33m]\u001b[0m\u001b[1;33m\u001b[0m\u001b[1;33m\u001b[0m\u001b[0m\n\u001b[0m",
      "\u001b[1;31mKeyError\u001b[0m: 1"
     ]
    }
   ],
   "source": [
    "word_list[1]"
   ]
  },
  {
   "cell_type": "code",
   "execution_count": 9,
   "metadata": {},
   "outputs": [],
   "source": [
    "def solution(word):\n",
    "    n = {'A':0, 'E':1, 'I':2, 'O':3, 'U':4}\n",
    "    \n",
    "    answer = len(word)\n",
    "    re = (((5 + 1)*5 + 1)*5 + 1)*5 + 1\n",
    "    for i in word:\n",
    "        answer += re * n[i]\n",
    "        re = (re - 1) // 5\n",
    "        \n",
    "    return answer"
   ]
  },
  {
   "cell_type": "code",
   "execution_count": 14,
   "metadata": {},
   "outputs": [
    {
     "data": {
      "text/plain": [
       "34"
      ]
     },
     "execution_count": 14,
     "metadata": {},
     "output_type": "execute_result"
    }
   ],
   "source": [
    "solution('AAE')"
   ]
  },
  {
   "cell_type": "code",
   "execution_count": null,
   "metadata": {},
   "outputs": [],
   "source": [
    "def solution(word):\n",
    "    \n",
    "    # A = 1, E = 782, I = 1563, O = 2344, U = 3125\n",
    "    # 한자리일때 차이 781 두자리일때 차이 156 세자리일때 차이 31 네자리일때 차이 6\n",
    "    # (answer -1) * 5\n",
    "    \n",
    "    \n",
    "    word_list = {\"A\":0,\"E\":1,\"I\":2,\"O\":3,\"U\":4}\n",
    "    \n",
    "    x = len(word)\n",
    "    \n",
    "    difference = 781\n",
    "    \n",
    "    for i in word:\n",
    "        x = difference * word_list[i]\n",
    "        difference = (difference - 1) // 5\n",
    "    \n",
    "    return x"
   ]
  },
  {
   "cell_type": "code",
   "execution_count": 15,
   "metadata": {},
   "outputs": [],
   "source": [
    "def solution(word):\n",
    "    n = {'A':0, 'E':1, 'I':2, 'O':3, 'U':4}\n",
    "    \n",
    "    answer = len(word)\n",
    "    re = (((5 + 1)*5 + 1)*5 + 1)*5 + 1\n",
    "    for i in word:\n",
    "        answer += re * n[i]\n",
    "        re = (re - 1) // 5\n",
    "        \n",
    "    return answer"
   ]
  },
  {
   "cell_type": "code",
   "execution_count": 18,
   "metadata": {},
   "outputs": [
    {
     "data": {
      "text/plain": [
       "314"
      ]
     },
     "execution_count": 18,
     "metadata": {},
     "output_type": "execute_result"
    }
   ],
   "source": [
    "solution('AI')"
   ]
  },
  {
   "cell_type": "code",
   "execution_count": 49,
   "metadata": {},
   "outputs": [
    {
     "name": "stdout",
     "output_type": "stream",
     "text": [
      "5\n",
      "12 7 9 15 5\n",
      "13 8 11 19 6\n",
      "21 10 26 31 16\n",
      "48 14 28 35 25\n",
      "52 20 32 41 49\n",
      "35\n"
     ]
    }
   ],
   "source": [
    "import numpy as np\n",
    "import sys\n",
    "n = int(input())\n",
    "n_list = []\n",
    "for _ in range(n):\n",
    "    n_list.append(list(map(int,input().split(' '))))\n",
    "x = sum(n_list,[])\n",
    "y = sorted(x)\n",
    "print(y[-n])"
   ]
  },
  {
   "cell_type": "code",
   "execution_count": 16,
   "metadata": {},
   "outputs": [
    {
     "ename": "ValueError",
     "evalue": "invalid literal for int() with base 10: ''",
     "output_type": "error",
     "traceback": [
      "\u001b[1;31m---------------------------------------------------------------------------\u001b[0m",
      "\u001b[1;31mValueError\u001b[0m                                Traceback (most recent call last)",
      "\u001b[1;32m<ipython-input-16-6b43b7ed3750>\u001b[0m in \u001b[0;36m<module>\u001b[1;34m\u001b[0m\n\u001b[0;32m      1\u001b[0m \u001b[1;32mimport\u001b[0m \u001b[0msys\u001b[0m\u001b[1;33m\u001b[0m\u001b[1;33m\u001b[0m\u001b[0m\n\u001b[1;32m----> 2\u001b[1;33m \u001b[0mn\u001b[0m \u001b[1;33m=\u001b[0m \u001b[0mint\u001b[0m\u001b[1;33m(\u001b[0m\u001b[0msys\u001b[0m\u001b[1;33m.\u001b[0m\u001b[0mstdin\u001b[0m\u001b[1;33m.\u001b[0m\u001b[0mreadline\u001b[0m\u001b[1;33m(\u001b[0m\u001b[1;33m)\u001b[0m\u001b[1;33m)\u001b[0m\u001b[1;33m\u001b[0m\u001b[1;33m\u001b[0m\u001b[0m\n\u001b[0m\u001b[0;32m      3\u001b[0m \u001b[0mn_list\u001b[0m \u001b[1;33m=\u001b[0m \u001b[1;33m[\u001b[0m\u001b[1;33m]\u001b[0m\u001b[1;33m\u001b[0m\u001b[1;33m\u001b[0m\u001b[0m\n\u001b[0;32m      4\u001b[0m \u001b[1;32mfor\u001b[0m \u001b[0m_\u001b[0m \u001b[1;32min\u001b[0m \u001b[0mrange\u001b[0m\u001b[1;33m(\u001b[0m\u001b[0mn\u001b[0m\u001b[1;33m)\u001b[0m\u001b[1;33m:\u001b[0m\u001b[1;33m\u001b[0m\u001b[1;33m\u001b[0m\u001b[0m\n\u001b[0;32m      5\u001b[0m     \u001b[0mn_list\u001b[0m \u001b[1;33m+=\u001b[0m \u001b[1;33m[\u001b[0m\u001b[0mint\u001b[0m\u001b[1;33m(\u001b[0m\u001b[0mn\u001b[0m\u001b[1;33m)\u001b[0m \u001b[1;32mfor\u001b[0m \u001b[0mn\u001b[0m \u001b[1;32min\u001b[0m \u001b[0msys\u001b[0m\u001b[1;33m.\u001b[0m\u001b[0mstdin\u001b[0m\u001b[1;33m.\u001b[0m\u001b[0mreadline\u001b[0m\u001b[1;33m(\u001b[0m\u001b[1;33m)\u001b[0m\u001b[1;33m.\u001b[0m\u001b[0msplit\u001b[0m\u001b[1;33m(\u001b[0m\u001b[1;33m)\u001b[0m\u001b[1;33m]\u001b[0m\u001b[1;33m\u001b[0m\u001b[1;33m\u001b[0m\u001b[0m\n",
      "\u001b[1;31mValueError\u001b[0m: invalid literal for int() with base 10: ''"
     ]
    }
   ],
   "source": [
    "import sys\n",
    "n = int(sys.stdin.readline())\n",
    "n_list = []\n",
    "for _ in range(n):\n",
    "    n_list += [int(n) for n in sys.stdin.readline().split()]\n",
    "    x = (sorted(n_list,reverse=True))[:n]\n",
    "print(x[-1])"
   ]
  },
  {
   "cell_type": "code",
   "execution_count": 13,
   "metadata": {},
   "outputs": [
    {
     "data": {
      "text/plain": [
       "35"
      ]
     },
     "execution_count": 13,
     "metadata": {},
     "output_type": "execute_result"
    }
   ],
   "source": [
    "x = (sorted(n_list))[-n]\n",
    "x"
   ]
  },
  {
   "cell_type": "code",
   "execution_count": 2,
   "metadata": {},
   "outputs": [
    {
     "name": "stdout",
     "output_type": "stream",
     "text": [
      "5\n",
      "12 7 9 15 5\n",
      "13 8 11 19 6\n",
      "21 10 26 31 16\n",
      "48 14 28 35 25\n",
      "52 20 32 41 49\n",
      "35\n"
     ]
    }
   ],
   "source": [
    "n_list = (sorted(nxn,reverse=True))[:n]\n",
    "print(n_list[-1])"
   ]
  },
  {
   "cell_type": "markdown",
   "metadata": {},
   "source": [
    "##### answer_list = sorted(x)\n",
    "answer_list[-n]"
   ]
  },
  {
   "cell_type": "code",
   "execution_count": 48,
   "metadata": {},
   "outputs": [
    {
     "name": "stdout",
     "output_type": "stream",
     "text": [
      "35\n"
     ]
    }
   ],
   "source": [
    "print(y[-n])"
   ]
  },
  {
   "cell_type": "code",
   "execution_count": 21,
   "metadata": {},
   "outputs": [
    {
     "data": {
      "text/plain": [
       "['0', '1', '1', '2', '3', '4', '4', '5', '5']"
      ]
     },
     "execution_count": 21,
     "metadata": {},
     "output_type": "execute_result"
    }
   ],
   "source": [
    "import numpy as np\n",
    "x = np.array(n_list).flatten().tolist()\n",
    "x.sort()\n",
    "x[-n]"
   ]
  },
  {
   "cell_type": "code",
   "execution_count": 25,
   "metadata": {},
   "outputs": [
    {
     "data": {
      "text/plain": [
       "'4'"
      ]
     },
     "execution_count": 25,
     "metadata": {},
     "output_type": "execute_result"
    }
   ],
   "source": [
    "x[-n]"
   ]
  },
  {
   "cell_type": "code",
   "execution_count": 12,
   "metadata": {},
   "outputs": [
    {
     "name": "stdout",
     "output_type": "stream",
     "text": [
      "None\n"
     ]
    }
   ],
   "source": []
  },
  {
   "cell_type": "code",
   "execution_count": 24,
   "metadata": {},
   "outputs": [
    {
     "name": "stdout",
     "output_type": "stream",
     "text": [
      "3 3\n",
      "1 3\n",
      "2 4\n",
      "5 1\n",
      "7\n"
     ]
    }
   ],
   "source": [
    "import sys\n",
    "a, b = map(int,input().split())\n",
    "x_list = []\n",
    "y_list = []\n",
    "# 직사각형일때는..?\n",
    "for _ in range(a):\n",
    "    y, x = map(int, input().split())\n",
    "    x_list.append(x)\n",
    "    y_list.append(y)\n",
    "# 홀수일때는?    \n",
    "x_median = sorted(x_list)[a//2]\n",
    "y_median = sorted(y_list)[b//2]\n",
    "\n",
    "answer = 0 \n",
    "for _ in range(a):\n",
    "    answer += abs(x_list.pop() - x_median)\n",
    "    answer += abs(y_list.pop() - y_median)\n",
    "print(answer)"
   ]
  },
  {
   "cell_type": "code",
   "execution_count": 21,
   "metadata": {},
   "outputs": [
    {
     "data": {
      "text/plain": [
       "[2, 4, 1, 2]"
      ]
     },
     "execution_count": 21,
     "metadata": {},
     "output_type": "execute_result"
    }
   ],
   "source": [
    "x_list"
   ]
  },
  {
   "cell_type": "code",
   "execution_count": 29,
   "metadata": {},
   "outputs": [
    {
     "name": "stdout",
     "output_type": "stream",
     "text": [
      "4 4\n",
      "1 2 \n",
      "1 4\n",
      "3 1\n",
      "4 2\n",
      "8\n"
     ]
    }
   ],
   "source": [
    "import sys\n",
    "a, b = map(int,input().split())\n",
    "a_number = a\n",
    "x_list = []\n",
    "y_list = []\n",
    "\n",
    "for _ in range(b):\n",
    "    y, x = map(int,input().split())\n",
    "    x_list.append(x)\n",
    "    y_list.append(y)\n",
    "    \n",
    "x_median = sorted(x_list)[a//2]\n",
    "y_median = sorted(y_list)[b//2]\n",
    "\n",
    "answer = 0 \n",
    "for _ in range(a_number):\n",
    "    ex_x = x_list.pop()\n",
    "    ey_y = y_list.pop()\n",
    "    answer += abs(ex_x - x_median)\n",
    "    answer += abs(ey_y - y_median)\n",
    "print(answer)"
   ]
  },
  {
   "cell_type": "code",
   "execution_count": 30,
   "metadata": {},
   "outputs": [
    {
     "name": "stdout",
     "output_type": "stream",
     "text": [
      "4 4\n",
      "1 2\n",
      "1 4\n",
      "3 1\n",
      "4 2\n"
     ]
    }
   ],
   "source": [
    "import math\n",
    "import sys\n",
    "def whytellmewhy(_x, _y, _dx, _dy):\n",
    "    return abs(_dx - _x) + abs(_dy - _y)\n",
    "\n",
    "a, b = map(int,input().split())\n",
    "x_list = []\n",
    "y_list = []\n",
    "\n",
    "for _ in range(b):\n",
    "    y, x = map(int,input().split())\n",
    "    x_list.append(x)\n",
    "    y_list.append(y)\n",
    "    \n",
    "x_median = sorted(x_list)[a//2]\n",
    "y_median = sorted(y_list)[b//2]\n",
    "\n",
    "answer = 0 \n",
    "\n",
    "\n",
    "for x,y in zip(x_list,y_list):\n",
    "    answer += whytellmewhy(x,y, x_median,y_median)\n",
    "print(answer)"
   ]
  },
  {
   "cell_type": "code",
   "execution_count": 31,
   "metadata": {},
   "outputs": [
    {
     "name": "stdout",
     "output_type": "stream",
     "text": [
      "8\n"
     ]
    }
   ],
   "source": [
    "print(answer)"
   ]
  },
  {
   "cell_type": "code",
   "execution_count": 32,
   "metadata": {},
   "outputs": [
    {
     "ename": "ValueError",
     "evalue": "not enough values to unpack (expected 2, got 0)",
     "output_type": "error",
     "traceback": [
      "\u001b[1;31m---------------------------------------------------------------------------\u001b[0m",
      "\u001b[1;31mValueError\u001b[0m                                Traceback (most recent call last)",
      "\u001b[1;32m<ipython-input-32-237f6c56de83>\u001b[0m in \u001b[0;36m<module>\u001b[1;34m\u001b[0m\n\u001b[0;32m      1\u001b[0m \u001b[1;32mimport\u001b[0m \u001b[0mmath\u001b[0m\u001b[1;33m\u001b[0m\u001b[1;33m\u001b[0m\u001b[0m\n\u001b[0;32m      2\u001b[0m \u001b[1;32mimport\u001b[0m \u001b[0msys\u001b[0m\u001b[1;33m\u001b[0m\u001b[1;33m\u001b[0m\u001b[0m\n\u001b[1;32m----> 3\u001b[1;33m \u001b[0ma\u001b[0m\u001b[1;33m,\u001b[0m \u001b[0mb\u001b[0m \u001b[1;33m=\u001b[0m \u001b[0mmap\u001b[0m\u001b[1;33m(\u001b[0m\u001b[0mint\u001b[0m\u001b[1;33m,\u001b[0m\u001b[0msys\u001b[0m\u001b[1;33m.\u001b[0m\u001b[0mstdin\u001b[0m\u001b[1;33m.\u001b[0m\u001b[0mreadline\u001b[0m\u001b[1;33m(\u001b[0m\u001b[1;33m)\u001b[0m\u001b[1;33m.\u001b[0m\u001b[0msplit\u001b[0m\u001b[1;33m(\u001b[0m\u001b[1;33m)\u001b[0m\u001b[1;33m)\u001b[0m\u001b[1;33m\u001b[0m\u001b[1;33m\u001b[0m\u001b[0m\n\u001b[0m\u001b[0;32m      4\u001b[0m \u001b[1;33m\u001b[0m\u001b[0m\n\u001b[0;32m      5\u001b[0m \u001b[0mx_list\u001b[0m \u001b[1;33m=\u001b[0m \u001b[1;33m[\u001b[0m\u001b[1;33m]\u001b[0m\u001b[1;33m\u001b[0m\u001b[1;33m\u001b[0m\u001b[0m\n",
      "\u001b[1;31mValueError\u001b[0m: not enough values to unpack (expected 2, got 0)"
     ]
    }
   ],
   "source": [
    "import math\n",
    "import sys\n",
    "a, b = map(int,sys.stdin.readline().split())\n",
    "\n",
    "x_list = []\n",
    "y_list = []\n",
    "\n",
    "answer = 0\n",
    "\n",
    "for i in range(b):\n",
    "    x,y = map(int,sys.stdin.readline().split())\n",
    "    x_list.append(x)\n",
    "    y_list.append(y)\n",
    "\n",
    "x_median = x_list.sort()[b//2]\n",
    "y_median = y_list.sort()[b//2]\n",
    "\n",
    "for i in range(b):\n",
    "    answer = abs(x_list[i] - x_median) + abs(y_list[i] - y_median)\n",
    "print(answer)"
   ]
  },
  {
   "cell_type": "code",
   "execution_count": 39,
   "metadata": {},
   "outputs": [
    {
     "name": "stdout",
     "output_type": "stream",
     "text": [
      "4 4\n",
      "1 2\n",
      "1 4\n",
      "3 1\n",
      "4 2\n",
      "8\n"
     ]
    }
   ],
   "source": [
    "import math\n",
    "import sys\n",
    "a, b = map(int,input().split())\n",
    "\n",
    "x_list = []\n",
    "y_list = []\n",
    "\n",
    "answer = 0\n",
    "\n",
    "for i in range(b):\n",
    "    x,y = map(int,input().split())\n",
    "    x_list.append(x)\n",
    "    y_list.append(y)\n",
    "\n",
    "x_median = sorted(x_list)[a//2]\n",
    "y_median = sorted(y_list)[b//2]\n",
    "\n",
    "for i in range(b):\n",
    "    x_pop = x_list.pop()\n",
    "    y_pop = y_list.pop()\n",
    "    answer += abs(x_pop - x_median) + abs(y_pop - y_median)\n",
    "print(answer)"
   ]
  },
  {
   "cell_type": "code",
   "execution_count": null,
   "metadata": {},
   "outputs": [],
   "source": [
    "import math\n",
    "import sys\n",
    "a, b = map(int,input().split())\n",
    "\n",
    "x_list = []\n",
    "y_list = []\n",
    "\n",
    "answer = 0\n",
    "\n",
    "for i in range(b):\n",
    "    x,y = map(int,input().split())\n",
    "    x_list.append(x)\n",
    "    y_list.append(y)\n",
    "\n",
    "    x_median = sorted(x_list)[a//2]\n",
    "y_median = sorted(y_list)[b//2]\n",
    "\n",
    "for i in range(b):\n",
    "    answer += abs(x_pop - x_median) + abs(y_pop - y_median)\n",
    "print(answer)"
   ]
  },
  {
   "cell_type": "code",
   "execution_count": 40,
   "metadata": {},
   "outputs": [
    {
     "data": {
      "text/plain": [
       "3"
      ]
     },
     "execution_count": 40,
     "metadata": {},
     "output_type": "execute_result"
    }
   ],
   "source": [
    "x_median"
   ]
  },
  {
   "cell_type": "code",
   "execution_count": null,
   "metadata": {},
   "outputs": [],
   "source": []
  }
 ],
 "metadata": {
  "kernelspec": {
   "display_name": "Python 3",
   "language": "python",
   "name": "python3"
  }
 },
 "nbformat": 4,
 "nbformat_minor": 4
}
